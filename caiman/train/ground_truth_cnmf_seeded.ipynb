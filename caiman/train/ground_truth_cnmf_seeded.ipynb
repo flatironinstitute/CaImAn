{
 "cells": [
  {
   "cell_type": "markdown",
   "metadata": {},
   "source": [
    "# Prepare ground truth built by matching with the results of CNMF\n",
    "\n",
    "User/programmer guide to understand and try the code. Currently being retooled. \n",
    "\n",
    "Details:    all of other usefull functions (demos available on jupyter notebook) \n",
    "-*- coding: utf-8 -*-\n",
    "\n",
    "Version:   1.0\n",
    "\n",
    "Copyright: GNU General Public License v2.0\n",
    "\n",
    "Created on Mon Nov 21 15:53:15 2016\n",
    "\n",
    "Updated on Thu Jan 09 13:50:00 2025\n",
    "\n",
    "Authors: agiovann, mpaez"
   ]
  },
  {
   "cell_type": "code",
   "execution_count": 14,
   "metadata": {},
   "outputs": [],
   "source": [
    "import cv2\n",
    "import numpy as np\n",
    "import os\n",
    "import matplotlib.pyplot as plt\n",
    "import scipy \n",
    "\n",
    "import caiman as cm\n",
    "from caiman.utils.utils import download_demo\n",
    "from caiman.base.rois import extract_binary_masks_blob\n",
    "from caiman.utils.visualization import plot_contours, view_patches_bar\n",
    "from caiman.source_extraction.cnmf import cnmf as cnmf\n",
    "from caiman.motion_correction import MotionCorrect, tile_and_correct, motion_correction_piecewise \n",
    "from caiman.components_evaluation import estimate_components_quality, evaluate_components\n",
    "from caiman.tests.comparison import comparison"
   ]
  },
  {
   "cell_type": "markdown",
   "metadata": {},
   "source": [
    "## Loading up the Ground Truth Files "
   ]
  },
  {
   "cell_type": "code",
   "execution_count": 2,
   "metadata": {},
   "outputs": [],
   "source": [
    "# neurofinder.03.00.test\n",
    "params_movie = {'fname': ['/mnt/ceph/data/neuro/caiman/labeling/neurofinder.03.00.test/images/final_map/Yr_d1_498_d2_467_d3_1_order_C_frames_2250_.mmap'],\n",
    "                'gtname': ['/mnt/ceph/data/neuro/caiman/labeling/neurofinder.03.00.test/regions/joined_consensus_active_regions.npy'],\n",
    "                'p': 1,  # order of the autoregressive system\n",
    "                'merge_thresh': 1,  # merging threshold, max correlation allow\n",
    "                'final_frate': 10,\n",
    "                #                 'r_values_min_patch': .7,  # threshold on space consistency\n",
    "                #                 'fitness_min_patch': -20,  # threshold on time variability\n",
    "                #                 # threshold on time variability (if nonsparse activity)\n",
    "                #                 'fitness_delta_min_patch': -20,\n",
    "                #                 'Npeaks': 10,\n",
    "                #                 'r_values_min_full': .8,\n",
    "                #                 'fitness_min_full': - 40,\n",
    "                #                 'fitness_delta_min_full': - 40,\n",
    "                #                 'only_init_patch': True,\n",
    "                'gnb': 1,\n",
    "                #                 'memory_fact': 1,\n",
    "                #                 'n_chunks': 10,\n",
    "                # whether to update the background components in the spatial phase\n",
    "                'update_background_components': True,\n",
    "                'low_rank_background': True,  # whether to update the using a low rank approximation. In the False case all the nonzero elements of the background components are updated using hals\n",
    "                #(to be used with one background per patch)\n",
    "                'swap_dim': False  # for some movies needed\n",
    "                }\n",
    "\n",
    "# neurofinder.04.00.test\n",
    "params_movie = {'fname': ['/mnt/ceph/data/neuro/caiman/labeling/neurofinder.04.00.test/images/final_mapYr_d1_512_d2_512_d3_1_order_C_frames_3000_.mmap'],\n",
    "                'gtname': ['/mnt/ceph/data/neuro/caiman/labeling/neurofinder.04.00.test/regions/joined_consensus_active_regions.npy'],\n",
    "                'p': 1,  # order of the autoregressive system\n",
    "                'merge_thresh': 1,  # merging threshold, max correlation allow\n",
    "                'final_frate': 10,\n",
    "                #                 'r_values_min_patch': .7,  # threshold on space consistency\n",
    "                #                 'fitness_min_patch': -20,  # threshold on time variability\n",
    "                #                 # threshold on time variability (if nonsparse activity)\n",
    "                #                 'fitness_delta_min_patch': -20,\n",
    "                #                 'Npeaks': 10,\n",
    "                #                 'r_values_min_full': .8,\n",
    "                #                 'fitness_min_full': - 40,\n",
    "                #                 'fitness_delta_min_full': - 40,\n",
    "                #                 'only_init_patch': True,\n",
    "                'gnb': 1,\n",
    "                #                 'memory_fact': 1,\n",
    "                #                 'n_chunks': 10,\n",
    "                # whether to update the background components in the spatial phase\n",
    "                'update_background_components': True,\n",
    "                'low_rank_background': True,  # whether to update the using a low rank approximation. In the False case all the nonzero elements of the background components are updated using hals\n",
    "                #(to be used with one background per patch)\n",
    "                'swap_dim': False  # for some movies needed\n",
    "\n",
    "                }\n",
    "\n",
    "# Yi not clear neurons\n",
    "params_movie = {'fname': ['/mnt/ceph/data/neuro/caiman/labeling/Yi.data.001/images/final_map/Yr_d1_512_d2_512_d3_1_order_C_frames_7826_.mmap'],\n",
    "                'gtname': ['/mnt/ceph/data/neuro/caiman/labeling/Yi.data.001/regions/joined_consensus_active_regions.npy'],\n",
    "                'p': 1,  # order of the autoregressive system\n",
    "                'merge_thresh': 1,  # merging threshold, max correlation allow\n",
    "                'final_frate': 30,\n",
    "                #                 'r_values_min_patch': .7,  # threshold on space consistency\n",
    "                #                 'fitness_min_patch': -20,  # threshold on time variability\n",
    "                #                 # threshold on time variability (if nonsparse activity)\n",
    "                #                 'fitness_delta_min_patch': -20,\n",
    "                #                 'Npeaks': 10,\n",
    "                #                 'r_values_min_full': .8,\n",
    "                #                 'fitness_min_full': - 40,\n",
    "                #                 'fitness_delta_min_full': - 40,\n",
    "                #                 'only_init_patch': True,\n",
    "                'gnb': 1,\n",
    "                #                 'memory_fact': 1,\n",
    "                #                 'n_chunks': 10,\n",
    "                # whether to update the background components in the spatial phase\n",
    "                'update_background_components': True,\n",
    "                'low_rank_background': True  # whether to update the using a low rank approximation. In the False case all the nonzero elements of the background components are updated using hals\n",
    "                #(to be used with one background per patch)\n",
    "                }\n",
    "\n",
    "# neurofinder.02.00\n",
    "params_movie = {'fname': ['/mnt/ceph/data/neuro/caiman/labeling/neurofinder.02.00/images/final_map/Yr_d1_512_d2_512_d3_1_order_C_frames_8000_.mmap'],\n",
    "                'gtname': ['/mnt/ceph/data/neuro/caiman/labeling/neurofinder.02.00/regions/joined_consensus_active_regions.npy'],\n",
    "                'merge_thresh': .8,  # merging threshold, max correlation allow\n",
    "                'final_frate': 10,\n",
    "                'gnb': 1,\n",
    "                # whether to update the background components in the spatial phase\n",
    "                'update_background_components': True,\n",
    "                'low_rank_background': True,  # whether to update the using a low rank approximation. In the False case all the nonzero elements of the background components are updated using hals\n",
    "                                     #(to be used with one background per patch)\n",
    "                'swap_dim': False  # for some movies needed\n",
    "                }\n",
    "\n",
    "# yuste: used kernel = np.ones((radius//4,radius//4),np.uint8)\n",
    "params_movie = {'fname': ['/mnt/ceph/data/neuro/caiman/labeling/yuste.Single_150u/images/final_map/Yr_d1_200_d2_256_d3_1_order_C_frames_3000_.mmap'],\n",
    "                'gtname': ['/mnt/ceph/data/neuro/caiman/labeling/yuste.Single_150u/regions/joined_consensus_active_regions.npy'],\n",
    "                'p': 1,  # order of the autoregressive system\n",
    "                'merge_thresh': 1,  # merging threshold, max correlation allow\n",
    "                'final_frate': 10,\n",
    "                'gnb': 1,\n",
    "                # whether to update the background components in the spatial phase\n",
    "                'update_background_components': True,\n",
    "                'low_rank_background': True,  # whether to update the using a low rank approximation. In the False case all the nonzero elements of the background components are updated using hals\n",
    "                #(to be used with one background per patch)\n",
    "                'swap_dim': False  # for some movies needed\n",
    "                }\n",
    "\n",
    "# neurofinder 00 00\n",
    "params_movie = {'fname': ['/mnt/ceph/data/neuro/caiman/labeling/neurofinder.00.00/images/final_map/Yr_d1_512_d2_512_d3_1_order_C_frames_2936_.mmap'],\n",
    "                'gtname': ['/mnt/ceph/data/neuro/caiman/labeling/neurofinder.00.00/regions/joined_consensus_active_regions.npy'],\n",
    "                'p': 1,  # order of the autoregressive system\n",
    "                'merge_thresh': 1,  # merging threshold, max correlation allow\n",
    "                'final_frate': 10,\n",
    "                #                 'r_values_min_patch': .7,  # threshold on space consistency\n",
    "                #                 'fitness_min_patch': -20,  # threshold on time variability\n",
    "                #                 # threshold on time variability (if nonsparse activity)\n",
    "                #                 'fitness_delta_min_patch': -20,\n",
    "                #                 'Npeaks': 10,\n",
    "                #                 'r_values_min_full': .8,\n",
    "                #                 'fitness_min_full': - 40,\n",
    "                #                 'fitness_delta_min_full': - 40,\n",
    "                #                 'only_init_patch': True,\n",
    "                'gnb': 1,\n",
    "                #                 'memory_fact': 1,\n",
    "                #                 'n_chunks': 10,\n",
    "                # whether to update the background components in the spatial phase\n",
    "                'update_background_components': True,\n",
    "                'low_rank_background': True,  # whether to update the using a low rank approximation. In the False case all the nonzero elements of the background components are updated using hals\n",
    "                #(to be used with one background per patch)\n",
    "                'swap_dim': False  # for some movies needed\n",
    "                }\n",
    "\n",
    "# k53\n",
    "params_movie = {'fname': ['/mnt/ceph/data/neuro/caiman/labeling/k53_20160530/final_map/Yr_d1_512_d2_512_d3_1_order_C_frames_116043_.mmap'],\n",
    "                'gtname': ['/mnt/ceph/data/neuro/caiman/labeling/k53_20160530/regions/joined_consensus_active_regions.npy'],\n",
    "                'seed_name': ['/mnt/ceph/data/neuro/caiman/labeling/k53_20160530/regions/joined_consensus_active_regions.npy'],\n",
    "                'p': 1,  # order of the autoregressive system\n",
    "                'merge_thresh': 1,  # merging threshold, max correlation allow\n",
    "                'final_frate': 30,\n",
    "                'gnb': 1,\n",
    "                # whether to update the background components in the spatial phase\n",
    "                'update_background_components': True,\n",
    "                'low_rank_background': True,  # whether to update the using a low rank approximation. In the False case all the nonzero elements of the background components are updated using hals\n",
    "                #(to be used with one background per patch)\n",
    "                'swap_dim': False,  # for some movies needed\n",
    "                'kernel': None\n",
    "                }\n",
    "\n",
    "# neurofinder: 01.01\n",
    "params_movie = {'fname': ['/mnt/ceph/data/neuro/caiman/labeling/neurofinder.01.01/images/final_map/Yr_d1_512_d2_512_d3_1_order_C_frames_1825_.mmap'],\n",
    "                'gtname': ['/mnt/ceph/data/neuro/caiman/labeling/neurofinder.01.01/regions/joined_consensus_active_regions.npy'],\n",
    "                'seed_name': ['/mnt/ceph/data/neuro/caiman/labeling/neurofinder.01.01/regions/joined_consensus_active_regions.npy'],\n",
    "                'p': 1,  # order of the autoregressive system\n",
    "                'merge_thresh': 1,  # merging threshold, max correlation allow\n",
    "                'final_frate': 10,\n",
    "                'gnb': 1,\n",
    "                # whether to update the background components in the spatial phase\n",
    "                'update_background_components': True,\n",
    "                'low_rank_background': True,  # whether to update the using a low rank approximation. In the False case all the nonzero elements of the background components are updated using hals\n",
    "                #(to be used with one background per patch)\n",
    "                'swap_dim': False,  # for some movies needed\n",
    "                'kernel': None\n",
    "                }\n",
    "\n",
    "# J115: 01.01\n",
    "params_movie = {'fname': ['/mnt/ceph/data/neuro/caiman/labeling/J115_2015-12-09_L01_ELS/images/final_map/Yr_d1_463_d2_472_d3_1_order_C_frames_90000_.mmap'],\n",
    "                'gtname': ['/mnt/ceph/data/neuro/caiman/labeling/J115_2015-12-09_L01_ELS/regions/joined_consensus_active_regions.npy'],\n",
    "                'seed_name': ['/mnt/ceph/data/neuro/caiman/labeling/J115_2015-12-09_L01_ELS/regions/joined_consensus_active_regions.npy'],\n",
    "                'p': 1,  # order of the autoregressive system\n",
    "                'merge_thresh': 1,  # merging threshold, max correlation allow\n",
    "                'final_frate': 10,\n",
    "                'gnb': 1,\n",
    "                # whether to update the background components in the spatial phase\n",
    "                'update_background_components': True,\n",
    "                'low_rank_background': True,  # whether to update the using a low rank approximation. In the False case all the nonzero elements of the background components are updated using hals\n",
    "                #(to be used with one background per patch)\n",
    "                'swap_dim': False,  # for some movies needed\n",
    "                'kernel': None\n",
    "                }\n",
    "\n",
    "# J123\n",
    "params_movie = {'fname': ['/mnt/ceph/data/neuro/caiman/labeling/J123_2015-11-20_L01_0/images/final_map/Yr_d1_458_d2_477_d3_1_order_C_frames_41000_.mmap'],\n",
    "                'gtname': ['/mnt/ceph/data/neuro/caiman/labeling/J123_2015-11-20_L01_0/regions/joined_consensus_active_regions.npy'],\n",
    "                'seed_name': ['/mnt/ceph/data/neuro/caiman/labeling/J123_2015-11-20_L01_0/regions/joined_consensus_active_regions.npy'],\n",
    "                'p': 1,  # order of the autoregressive system\n",
    "                'merge_thresh': 1,  # merging threshold, max correlation allow\n",
    "                'final_frate': 10,\n",
    "                'gnb': 1,\n",
    "                # whether to update the background components in the spatial phase\n",
    "                'update_background_components': True,\n",
    "                'low_rank_background': True,  # whether to update the using a low rank approximation. In the False case all the nonzero elements of the background components are updated using hals\n",
    "                #(to be used with one background per patch)\n",
    "                'swap_dim': False,  # for some movies needed\n",
    "                'kernel': None\n",
    "                }\n",
    "# Jan-AMG\n",
    "params_movie = {'fname': ['/mnt/ceph/data/neuro/caiman/labeling/Jan-AMG_exp3_001/images/final_map/Yr_d1_512_d2_512_d3_1_order_C_frames_115897_.mmap'],\n",
    "                'gtname': ['/mnt/ceph/data/neuro/caiman/labeling/Jan-AMG_exp3_001/regions/joined_consensus_active_regions.npy'],\n",
    "                'seed_name': ['/mnt/ceph/data/neuro/caiman/labeling/Jan-AMG_exp3_001/regions/joined_consensus_active_regions.npy'],\n",
    "                'p': 1,  # order of the autoregressive system\n",
    "                'merge_thresh': 1,  # merging threshold, max correlation allow\n",
    "                'final_frate': 10,\n",
    "                'gnb': 1,\n",
    "                # whether to update the background components in the spatial phase\n",
    "                'update_background_components': True,\n",
    "                'low_rank_background': True,  # whether to update the using a low rank approximation. In the False case all the nonzero elements of the background components are updated using hals\n",
    "                #(to be used with one background per patch)\n",
    "                'swap_dim': False,  # for some movies needed\n",
    "                'kernel': None,\n",
    "                'crop_pix': 8,\n",
    "                }\n",
    "\n",
    "# sue k37, not nice because few events\n",
    "params_movie = {'fname': ['/mnt/ceph/data/neuro/caiman/labeling/k37_20160109_AM_150um_65mW_zoom2p2_00001_1-16/images/final_map/Yr_d1_512_d2_512_d3_1_order_C_frames_48000_.mmap'],\n",
    "                'gtname': ['/mnt/ceph/data/neuro/caiman/labeling/k37_20160109_AM_150um_65mW_zoom2p2_00001_1-16/regions/joined_consensus_active_regions.npy'],\n",
    "                'seed_name': ['/mnt/ceph/data/neuro/caiman/labeling/k37_20160109_AM_150um_65mW_zoom2p2_00001_1-16/regions/joined_consensus_active_regions.npy'],\n",
    "                'p': 1,  # order of the autoregressive system\n",
    "                'merge_thresh': 1,  # merging threshold, max correlation allow\n",
    "                'final_frate': 30,\n",
    "                'gnb': 2,\n",
    "                # whether to update the background components in the spatial phase\n",
    "                'update_background_components': True,\n",
    "                'low_rank_background': True,  # whether to update the using a low rank approximation. In the False case all the nonzero elements of the background components are updated using hals\n",
    "                #(to be used with one background per patch)\n",
    "                'swap_dim': False,  # for some movies needed\n",
    "                'kernel': None,\n",
    "                'crop_pix': 7,\n",
    "                }"
   ]
  },
  {
   "cell_type": "markdown",
   "metadata": {},
   "source": [
    "### Parameters for the Movie"
   ]
  },
  {
   "cell_type": "code",
   "execution_count": 3,
   "metadata": {},
   "outputs": [],
   "source": [
    "params_display = {\n",
    "    'downsample_ratio': .2,\n",
    "    'thr_plot': 0.8\n",
    "}\n",
    "\n",
    "# @params fname name of the movie\n",
    "fname_new = params_movie['fname'][0]"
   ]
  },
  {
   "cell_type": "markdown",
   "metadata": {},
   "source": [
    "## Run Analysis"
   ]
  },
  {
   "cell_type": "code",
   "execution_count": 4,
   "metadata": {},
   "outputs": [
    {
     "name": "stderr",
     "output_type": "stream",
     "text": [
      "The local backend is an alias for the multiprocessing backend, and the alias may be removed in some future version of Caiman\n"
     ]
    }
   ],
   "source": [
    "c, dview, n_processes = cm.cluster.setup_cluster(\n",
    "    backend='local', n_processes=None, single_thread=False)\n",
    "\n",
    "Yr, dims, T = cm.load_memmap(fname_new)\n",
    "d1, d2 = dims\n",
    "images = np.reshape(Yr.T, [T] + list(dims), order='F')\n",
    "Y = np.reshape(Yr, dims + (T,), order='F')\n",
    "m_images = cm.movie(images)"
   ]
  },
  {
   "cell_type": "markdown",
   "metadata": {},
   "source": [
    "### Correlation Image"
   ]
  },
  {
   "cell_type": "code",
   "execution_count": 5,
   "metadata": {},
   "outputs": [
    {
     "name": "stderr",
     "output_type": "stream",
     "text": [
      "File request:[/Users/manuelpaez/Documents/Flatiron/Caiman/data/source_components/projections/correlation_image_better.tif] not found!\n"
     ]
    },
    {
     "ename": "Exception",
     "evalue": "File /Users/manuelpaez/Documents/Flatiron/Caiman/data/source_components/projections/correlation_image_better.tif not found!",
     "output_type": "error",
     "traceback": [
      "\u001b[0;31m---------------------------------------------------------------------------\u001b[0m",
      "\u001b[0;31mException\u001b[0m                                 Traceback (most recent call last)",
      "Cell \u001b[0;32mIn[5], line 7\u001b[0m\n\u001b[1;32m      4\u001b[0m     Cn[np\u001b[38;5;241m.\u001b[39misnan(Cn)] \u001b[38;5;241m=\u001b[39m \u001b[38;5;241m0\u001b[39m\n\u001b[1;32m      5\u001b[0m \u001b[38;5;28;01melse\u001b[39;00m:\n\u001b[1;32m      6\u001b[0m     \u001b[38;5;66;03m#Saved as a tif file\u001b[39;00m\n\u001b[0;32m----> 7\u001b[0m     Cn \u001b[38;5;241m=\u001b[39m np\u001b[38;5;241m.\u001b[39marray(\u001b[43mcm\u001b[49m\u001b[38;5;241;43m.\u001b[39;49m\u001b[43mload\u001b[49m\u001b[43m(\u001b[49m\u001b[43m(\u001b[49m\u001b[38;5;124;43m'\u001b[39;49m\u001b[38;5;124;43m/\u001b[39;49m\u001b[38;5;124;43m'\u001b[39;49m\u001b[38;5;241;43m.\u001b[39;49m\u001b[43mjoin\u001b[49m\u001b[43m(\u001b[49m\u001b[43mparams_movie\u001b[49m\u001b[43m[\u001b[49m\u001b[38;5;124;43m'\u001b[39;49m\u001b[38;5;124;43mgtname\u001b[39;49m\u001b[38;5;124;43m'\u001b[39;49m\u001b[43m]\u001b[49m\u001b[43m[\u001b[49m\u001b[38;5;241;43m0\u001b[39;49m\u001b[43m]\u001b[49m\u001b[38;5;241;43m.\u001b[39;49m\u001b[43msplit\u001b[49m\u001b[43m(\u001b[49m\u001b[38;5;124;43m'\u001b[39;49m\u001b[38;5;124;43m/\u001b[39;49m\u001b[38;5;124;43m'\u001b[39;49m\u001b[43m)\u001b[49m\u001b[43m[\u001b[49m\u001b[43m:\u001b[49m\u001b[38;5;241;43m-\u001b[39;49m\u001b[38;5;241;43m2\u001b[39;49m\u001b[43m]\u001b[49m\u001b[43m \u001b[49m\u001b[38;5;241;43m+\u001b[39;49m\u001b[43m \u001b[49m\u001b[43m[\u001b[49m\n\u001b[1;32m      8\u001b[0m \u001b[43m                  \u001b[49m\u001b[38;5;124;43m'\u001b[39;49m\u001b[38;5;124;43mprojections\u001b[39;49m\u001b[38;5;124;43m'\u001b[39;49m\u001b[43m,\u001b[49m\u001b[43m \u001b[49m\u001b[38;5;124;43m'\u001b[39;49m\u001b[38;5;124;43mcorrelation_image_better.tif\u001b[39;49m\u001b[38;5;124;43m'\u001b[39;49m\u001b[43m]\u001b[49m\u001b[43m)\u001b[49m\u001b[43m)\u001b[49m\u001b[43m)\u001b[49m)\u001b[38;5;241m.\u001b[39msqueeze() \n\u001b[1;32m     10\u001b[0m plt\u001b[38;5;241m.\u001b[39mimshow(Cn, cmap\u001b[38;5;241m=\u001b[39m\u001b[38;5;124m'\u001b[39m\u001b[38;5;124mgray\u001b[39m\u001b[38;5;124m'\u001b[39m, vmax\u001b[38;5;241m=\u001b[39m\u001b[38;5;241m.95\u001b[39m)\n",
      "File \u001b[0;32m/opt/anaconda3/envs/caiman_pytorch_2/lib/python3.12/site-packages/caiman/base/movies.py:1540\u001b[0m, in \u001b[0;36mload\u001b[0;34m(file_name, fr, start_time, meta_data, subindices, shape, var_name_hdf5, in_memory, is_behavior, bottom, top, left, right, channel, outtype, is3D)\u001b[0m\n\u001b[1;32m   1538\u001b[0m \u001b[38;5;28;01melse\u001b[39;00m:\n\u001b[1;32m   1539\u001b[0m     logger\u001b[38;5;241m.\u001b[39merror(\u001b[38;5;124mf\u001b[39m\u001b[38;5;124m\"\u001b[39m\u001b[38;5;124mFile request:[\u001b[39m\u001b[38;5;132;01m{\u001b[39;00mfile_name\u001b[38;5;132;01m}\u001b[39;00m\u001b[38;5;124m] not found!\u001b[39m\u001b[38;5;124m\"\u001b[39m)\n\u001b[0;32m-> 1540\u001b[0m     \u001b[38;5;28;01mraise\u001b[39;00m \u001b[38;5;167;01mException\u001b[39;00m(\u001b[38;5;124mf\u001b[39m\u001b[38;5;124m'\u001b[39m\u001b[38;5;124mFile \u001b[39m\u001b[38;5;132;01m{\u001b[39;00mfile_name\u001b[38;5;132;01m}\u001b[39;00m\u001b[38;5;124m not found!\u001b[39m\u001b[38;5;124m'\u001b[39m)\n\u001b[1;32m   1542\u001b[0m \u001b[38;5;28;01mreturn\u001b[39;00m movie(input_arr\u001b[38;5;241m.\u001b[39mastype(outtype),\n\u001b[1;32m   1543\u001b[0m              fr\u001b[38;5;241m=\u001b[39mfr,\n\u001b[1;32m   1544\u001b[0m              start_time\u001b[38;5;241m=\u001b[39mstart_time,\n\u001b[1;32m   1545\u001b[0m              file_name\u001b[38;5;241m=\u001b[39mos\u001b[38;5;241m.\u001b[39mpath\u001b[38;5;241m.\u001b[39msplit(file_name)[\u001b[38;5;241m-\u001b[39m\u001b[38;5;241m1\u001b[39m],\n\u001b[1;32m   1546\u001b[0m              meta_data\u001b[38;5;241m=\u001b[39mmeta_data)\n",
      "\u001b[0;31mException\u001b[0m: File /Users/manuelpaez/Documents/Flatiron/Caiman/data/source_components/projections/correlation_image_better.tif not found!"
     ]
    }
   ],
   "source": [
    "if m_images.shape[0] < 10000:\n",
    "    Cn = m_images.local_correlations(\n",
    "        swap_dim=params_movie['swap_dim'], frames_per_chunk=1500)\n",
    "    Cn[np.isnan(Cn)] = 0\n",
    "else:\n",
    "    Cn = np.array(cm.load(('/'.join(params_movie['gtname'][0].split('/')[:-2] + [\n",
    "                  'projections', 'correlation_image_better.tif'])))).squeeze() \n",
    "\n",
    "plt.imshow(Cn, cmap='gray', vmax=.95)"
   ]
  },
  {
   "cell_type": "code",
   "execution_count": 6,
   "metadata": {},
   "outputs": [
    {
     "name": "stdout",
     "output_type": "stream",
     "text": [
      "9\n",
      "(183, 458, 477)\n"
     ]
    },
    {
     "data": {
      "text/plain": [
       "<matplotlib.image.AxesImage at 0x33c185f10>"
      ]
     },
     "execution_count": 6,
     "metadata": {},
     "output_type": "execute_result"
    },
    {
     "data": {
      "image/png": "[encoded data removed]",
      "text/plain": [
       "<Figure size 640x480 with 1 Axes>"
      ]
     },
     "metadata": {},
     "output_type": "display_data"
    }
   ],
   "source": [
    "if not '.mat' in params_movie['seed_name'][0]:\n",
    "    roi_cons = np.load(params_movie['seed_name'][0])\n",
    "else:\n",
    "    roi_cons = scipy.io.loadmat(params_movie['seed_name'][0])['comps'].reshape(\n",
    "        (dims[1], dims[0], -1), order='F').transpose([2, 1, 0]) * 1.\n",
    "\n",
    "radius = int(np.median(np.sqrt(np.sum(roi_cons, (1, 2)) / np.pi)))\n",
    "\n",
    "print(radius)\n",
    "print(roi_cons.shape)\n",
    "plt.imshow(roi_cons.sum(0))"
   ]
  },
  {
   "cell_type": "code",
   "execution_count": 7,
   "metadata": {},
   "outputs": [
    {
     "ename": "NameError",
     "evalue": "name 'Cn' is not defined",
     "output_type": "error",
     "traceback": [
      "\u001b[0;31m---------------------------------------------------------------------------\u001b[0m",
      "\u001b[0;31mNameError\u001b[0m                                 Traceback (most recent call last)",
      "Cell \u001b[0;32mIn[7], line 11\u001b[0m\n\u001b[1;32m      8\u001b[0m A_in \u001b[38;5;241m=\u001b[39m np\u001b[38;5;241m.\u001b[39mreshape(roi_cons\u001b[38;5;241m.\u001b[39mtranspose(\n\u001b[1;32m      9\u001b[0m     [\u001b[38;5;241m2\u001b[39m, \u001b[38;5;241m1\u001b[39m, \u001b[38;5;241m0\u001b[39m]), (\u001b[38;5;241m-\u001b[39m\u001b[38;5;241m1\u001b[39m, roi_cons\u001b[38;5;241m.\u001b[39mshape[\u001b[38;5;241m0\u001b[39m]), order\u001b[38;5;241m=\u001b[39m\u001b[38;5;124m'\u001b[39m\u001b[38;5;124mC\u001b[39m\u001b[38;5;124m'\u001b[39m)\n\u001b[1;32m     10\u001b[0m plt\u001b[38;5;241m.\u001b[39mfigure()\n\u001b[0;32m---> 11\u001b[0m crd \u001b[38;5;241m=\u001b[39m plot_contours(A_in, \u001b[43mCn\u001b[49m, thr\u001b[38;5;241m=\u001b[39m\u001b[38;5;241m.99999\u001b[39m)\n",
      "\u001b[0;31mNameError\u001b[0m: name 'Cn' is not defined"
     ]
    },
    {
     "data": {
      "text/plain": [
       "<Figure size 640x480 with 0 Axes>"
      ]
     },
     "metadata": {},
     "output_type": "display_data"
    }
   ],
   "source": [
    "if params_movie['kernel'] is not None:  # kernel usually two\n",
    "    kernel = np.ones(\n",
    "        (radius // params_movie['kernel'], radius // params_movie['kernel']), np.uint8)\n",
    "    roi_cons = np.vstack([cv2.dilate(rr, kernel, iterations=1)[\n",
    "                         np.newaxis, :, :] > 0 for rr in roi_cons]) * 1.\n",
    "    pl.imshow(roi_cons.sum(0), alpha=0.5)\n",
    "\n",
    "A_in = np.reshape(roi_cons.transpose(\n",
    "    [2, 1, 0]), (-1, roi_cons.shape[0]), order='C')\n",
    "plt.figure()\n",
    "crd = plot_contours(A_in, Cn, thr=.99999)"
   ]
  },
  {
   "cell_type": "markdown",
   "metadata": {},
   "source": [
    "### Parameter Setting"
   ]
  },
  {
   "cell_type": "code",
   "execution_count": 8,
   "metadata": {},
   "outputs": [],
   "source": [
    "# order of the autoregressive fit to calcium imaging in general one (slow gcamps) or two (fast gcamps fast scanning)\n",
    "p = params_movie['p']\n",
    "# merging threshold, max correlation allowed\n",
    "merge_thresh = params_movie['merge_thresh']"
   ]
  },
  {
   "cell_type": "markdown",
   "metadata": {},
   "source": [
    "### Extract spatial and temporal components on patches"
   ]
  },
  {
   "cell_type": "code",
   "execution_count": 9,
   "metadata": {},
   "outputs": [
    {
     "name": "stdout",
     "output_type": "stream",
     "text": [
      "spatial support for each components given by the user\n",
      "estimating f\n"
     ]
    },
    {
     "name": "stderr",
     "output_type": "stream",
     "text": [
      "/opt/anaconda3/envs/caiman_pytorch_2/lib/python3.12/site-packages/caiman/source_extraction/cnmf/deconvolution.py:1004: FutureWarning: Beginning in SciPy 1.17, multidimensional input will be treated as a batch, not `ravel`ed. To preserve the existing behavior and silence this warning, `ravel` arguments before passing them to `toeplitz`.\n",
      "  A = scipy.linalg.toeplitz(xc[lags + np.arange(lags)],\n",
      "/opt/anaconda3/envs/caiman_pytorch_2/lib/python3.12/site-packages/caiman/source_extraction/cnmf/deconvolution.py:1004: FutureWarning: Beginning in SciPy 1.17, multidimensional input will be treated as a batch, not `ravel`ed. To preserve the existing behavior and silence this warning, `ravel` arguments before passing them to `toeplitz`.\n",
      "  A = scipy.linalg.toeplitz(xc[lags + np.arange(lags)],\n",
      "/opt/anaconda3/envs/caiman_pytorch_2/lib/python3.12/site-packages/caiman/source_extraction/cnmf/deconvolution.py:1004: FutureWarning: Beginning in SciPy 1.17, multidimensional input will be treated as a batch, not `ravel`ed. To preserve the existing behavior and silence this warning, `ravel` arguments before passing them to `toeplitz`.\n",
      "  A = scipy.linalg.toeplitz(xc[lags + np.arange(lags)],\n",
      "/opt/anaconda3/envs/caiman_pytorch_2/lib/python3.12/site-packages/caiman/source_extraction/cnmf/deconvolution.py:1004: FutureWarning: Beginning in SciPy 1.17, multidimensional input will be treated as a batch, not `ravel`ed. To preserve the existing behavior and silence this warning, `ravel` arguments before passing them to `toeplitz`.\n",
      "  A = scipy.linalg.toeplitz(xc[lags + np.arange(lags)],\n",
      "/opt/anaconda3/envs/caiman_pytorch_2/lib/python3.12/site-packages/caiman/source_extraction/cnmf/deconvolution.py:1004: FutureWarning: Beginning in SciPy 1.17, multidimensional input will be treated as a batch, not `ravel`ed. To preserve the existing behavior and silence this warning, `ravel` arguments before passing them to `toeplitz`.\n",
      "  A = scipy.linalg.toeplitz(xc[lags + np.arange(lags)],\n",
      "/opt/anaconda3/envs/caiman_pytorch_2/lib/python3.12/site-packages/caiman/source_extraction/cnmf/deconvolution.py:1004: FutureWarning: Beginning in SciPy 1.17, multidimensional input will be treated as a batch, not `ravel`ed. To preserve the existing behavior and silence this warning, `ravel` arguments before passing them to `toeplitz`.\n",
      "  A = scipy.linalg.toeplitz(xc[lags + np.arange(lags)],\n",
      "/opt/anaconda3/envs/caiman_pytorch_2/lib/python3.12/site-packages/caiman/source_extraction/cnmf/deconvolution.py:1004: FutureWarning: Beginning in SciPy 1.17, multidimensional input will be treated as a batch, not `ravel`ed. To preserve the existing behavior and silence this warning, `ravel` arguments before passing them to `toeplitz`.\n",
      "  A = scipy.linalg.toeplitz(xc[lags + np.arange(lags)],\n",
      "/opt/anaconda3/envs/caiman_pytorch_2/lib/python3.12/site-packages/caiman/source_extraction/cnmf/deconvolution.py:1004: FutureWarning: Beginning in SciPy 1.17, multidimensional input will be treated as a batch, not `ravel`ed. To preserve the existing behavior and silence this warning, `ravel` arguments before passing them to `toeplitz`.\n",
      "  A = scipy.linalg.toeplitz(xc[lags + np.arange(lags)],\n",
      "/opt/anaconda3/envs/caiman_pytorch_2/lib/python3.12/site-packages/caiman/source_extraction/cnmf/deconvolution.py:1004: FutureWarning: Beginning in SciPy 1.17, multidimensional input will be treated as a batch, not `ravel`ed. To preserve the existing behavior and silence this warning, `ravel` arguments before passing them to `toeplitz`.\n",
      "  A = scipy.linalg.toeplitz(xc[lags + np.arange(lags)],\n",
      "/opt/anaconda3/envs/caiman_pytorch_2/lib/python3.12/site-packages/caiman/source_extraction/cnmf/deconvolution.py:1004: FutureWarning: Beginning in SciPy 1.17, multidimensional input will be treated as a batch, not `ravel`ed. To preserve the existing behavior and silence this warning, `ravel` arguments before passing them to `toeplitz`.\n",
      "  A = scipy.linalg.toeplitz(xc[lags + np.arange(lags)],\n"
     ]
    },
    {
     "ename": "AttributeError",
     "evalue": "'CNMF' object has no attribute 'A'",
     "output_type": "error",
     "traceback": [
      "\u001b[0;31m---------------------------------------------------------------------------\u001b[0m",
      "\u001b[0;31mAttributeError\u001b[0m                            Traceback (most recent call last)",
      "Cell \u001b[0;32mIn[9], line 10\u001b[0m\n\u001b[1;32m      6\u001b[0m cnm \u001b[38;5;241m=\u001b[39m cnmf\u001b[38;5;241m.\u001b[39mCNMF(check_nan\u001b[38;5;241m=\u001b[39mcheck_nan, n_processes\u001b[38;5;241m=\u001b[39m\u001b[38;5;241m1\u001b[39m, k\u001b[38;5;241m=\u001b[39mA_in\u001b[38;5;241m.\u001b[39mshape[\u001b[38;5;241m-\u001b[39m\u001b[38;5;241m1\u001b[39m], gSig\u001b[38;5;241m=\u001b[39m[radius, radius], merge_thresh\u001b[38;5;241m=\u001b[39mparams_movie[\u001b[38;5;124m'\u001b[39m\u001b[38;5;124mmerge_thresh\u001b[39m\u001b[38;5;124m'\u001b[39m], p\u001b[38;5;241m=\u001b[39mparams_movie[\u001b[38;5;124m'\u001b[39m\u001b[38;5;124mp\u001b[39m\u001b[38;5;124m'\u001b[39m], Ain\u001b[38;5;241m=\u001b[39mA_in\u001b[38;5;241m.\u001b[39mastype(\u001b[38;5;28mbool\u001b[39m),\n\u001b[1;32m      7\u001b[0m                 dview\u001b[38;5;241m=\u001b[39mdview, rf\u001b[38;5;241m=\u001b[39m\u001b[38;5;28;01mNone\u001b[39;00m, stride\u001b[38;5;241m=\u001b[39m\u001b[38;5;28;01mNone\u001b[39;00m, gnb\u001b[38;5;241m=\u001b[39mparams_movie[\u001b[38;5;124m'\u001b[39m\u001b[38;5;124mgnb\u001b[39m\u001b[38;5;124m'\u001b[39m], method_deconvolution\u001b[38;5;241m=\u001b[39m\u001b[38;5;124m'\u001b[39m\u001b[38;5;124moasis\u001b[39m\u001b[38;5;124m'\u001b[39m, border_pix\u001b[38;5;241m=\u001b[39m\u001b[38;5;241m0\u001b[39m, low_rank_background\u001b[38;5;241m=\u001b[39mparams_movie[\u001b[38;5;124m'\u001b[39m\u001b[38;5;124mlow_rank_background\u001b[39m\u001b[38;5;124m'\u001b[39m], n_pixels_per_process\u001b[38;5;241m=\u001b[39m\u001b[38;5;241m1000\u001b[39m)\n\u001b[1;32m      8\u001b[0m cnm \u001b[38;5;241m=\u001b[39m cnm\u001b[38;5;241m.\u001b[39mfit(images)\n\u001b[0;32m---> 10\u001b[0m A \u001b[38;5;241m=\u001b[39m \u001b[43mcnm\u001b[49m\u001b[38;5;241;43m.\u001b[39;49m\u001b[43mA\u001b[49m\n\u001b[1;32m     11\u001b[0m C \u001b[38;5;241m=\u001b[39m cnm\u001b[38;5;241m.\u001b[39mC\n\u001b[1;32m     12\u001b[0m YrA \u001b[38;5;241m=\u001b[39m cnm\u001b[38;5;241m.\u001b[39mYrA\n",
      "\u001b[0;31mAttributeError\u001b[0m: 'CNMF' object has no attribute 'A'"
     ]
    }
   ],
   "source": [
    "if images.shape[0] > 10000:\n",
    "    check_nan = False\n",
    "else:\n",
    "    check_nan = True\n",
    "\n",
    "cnm = cnmf.CNMF(check_nan=check_nan, n_processes=1, k=A_in.shape[-1], gSig=[radius, radius], merge_thresh=params_movie['merge_thresh'], p=params_movie['p'], Ain=A_in.astype(bool),\n",
    "                dview=dview, rf=None, stride=None, gnb=params_movie['gnb'], method_deconvolution='oasis', border_pix=0, low_rank_background=params_movie['low_rank_background'], n_pixels_per_process=1000)\n",
    "cnm = cnm.fit(images)\n",
    "\n",
    "A = cnm.A\n",
    "C = cnm.C\n",
    "YrA = cnm.YrA\n",
    "b = cnm.b\n",
    "f = cnm.f\n",
    "snt = cnm.sn\n",
    "print(('Number of components:' + str(A.shape[-1])))\n",
    "plt.figure()\n",
    "crd = plot_contours(A, Cn, thr=params_display['thr_plot'])"
   ]
  },
  {
   "cell_type": "markdown",
   "metadata": {},
   "source": [
    "Threshold Components "
   ]
  },
  {
   "cell_type": "code",
   "execution_count": 15,
   "metadata": {},
   "outputs": [
    {
     "ename": "NameError",
     "evalue": "name 'A' is not defined",
     "output_type": "error",
     "traceback": [
      "\u001b[0;31m---------------------------------------------------------------------------\u001b[0m",
      "\u001b[0;31mNameError\u001b[0m                                 Traceback (most recent call last)",
      "Cell \u001b[0;32mIn[15], line 2\u001b[0m\n\u001b[1;32m      1\u001b[0m \u001b[38;5;66;03m# TODO: needinfo\u001b[39;00m\n\u001b[0;32m----> 2\u001b[0m view_patches_bar(Yr, scipy\u001b[38;5;241m.\u001b[39msparse\u001b[38;5;241m.\u001b[39mcoo_matrix(\u001b[43mA\u001b[49m\u001b[38;5;241m.\u001b[39mtocsc()[:, :]), C[:, :], b, f, dims[\u001b[38;5;241m0\u001b[39m], dims[\u001b[38;5;241m1\u001b[39m],\n\u001b[1;32m      3\u001b[0m                  YrA\u001b[38;5;241m=\u001b[39mYrA[:, :], img\u001b[38;5;241m=\u001b[39mCn)\n\u001b[1;32m      5\u001b[0m c, dview, n_processes \u001b[38;5;241m=\u001b[39m cm\u001b[38;5;241m.\u001b[39mcluster\u001b[38;5;241m.\u001b[39msetup_cluster(\n\u001b[1;32m      6\u001b[0m     backend\u001b[38;5;241m=\u001b[39m\u001b[38;5;124m'\u001b[39m\u001b[38;5;124mlocal\u001b[39m\u001b[38;5;124m'\u001b[39m, n_processes\u001b[38;5;241m=\u001b[39m\u001b[38;5;28;01mNone\u001b[39;00m, single_thread\u001b[38;5;241m=\u001b[39m\u001b[38;5;28;01mFalse\u001b[39;00m)\n\u001b[1;32m      8\u001b[0m min_size_neuro \u001b[38;5;241m=\u001b[39m \u001b[38;5;241m3\u001b[39m \u001b[38;5;241m*\u001b[39m \u001b[38;5;241m2\u001b[39m \u001b[38;5;241m*\u001b[39m np\u001b[38;5;241m.\u001b[39mpi\n",
      "\u001b[0;31mNameError\u001b[0m: name 'A' is not defined"
     ]
    }
   ],
   "source": [
    "# TODO: needinfo\n",
    "view_patches_bar(Yr, scipy.sparse.coo_matrix(A.tocsc()[:, :]), C[:, :], b, f, dims[0], dims[1],\n",
    "                 YrA=YrA[:, :], img=Cn)\n",
    "\n",
    "c, dview, n_processes = cm.cluster.setup_cluster(\n",
    "    backend='local', n_processes=None, single_thread=False)\n",
    "\n",
    "min_size_neuro = 3 * 2 * np.pi\n",
    "max_size_neuro = (2 * radius)**2 * np.pi\n",
    "A_thr = cm.source_extraction.cnmf.spatial.threshold_components(A.tocsc()[:, :].toarray(), dims, medw=None, thr_method='max', maxthr=0.2, nrgthr=0.99, extract_cc=True,\n",
    "                                                               se=None, ss=None, dview=dview)\n",
    "\n",
    "A_thr = A_thr > 0\n",
    "size_neurons = A_thr.sum(0)\n",
    "idx_size_neuro = np.where((size_neurons > min_size_neuro)\n",
    "                          & (size_neurons < max_size_neuro))[0]\n",
    "A_thr = A_thr[:, idx_size_neuro]\n",
    "print(A_thr.shape)\n",
    "\n",
    "crd = plot_contours(scipy.sparse.coo_matrix(\n",
    "    A_thr * 1.), Cn, thr=.99, vmax=0.35)\n",
    "\n",
    "roi_cons = np.load(params_movie['gtname'][0])\n",
    "print(roi_cons.shape)\n",
    "plt.imshow(roi_cons.sum(0))"
   ]
  },
  {
   "cell_type": "markdown",
   "metadata": {},
   "source": [
    "### Compare CNMF Seeded with ground truth"
   ]
  },
  {
   "cell_type": "code",
   "execution_count": 11,
   "metadata": {},
   "outputs": [
    {
     "ename": "NameError",
     "evalue": "name 'A_thr' is not defined",
     "output_type": "error",
     "traceback": [
      "\u001b[0;31m---------------------------------------------------------------------------\u001b[0m",
      "\u001b[0;31mNameError\u001b[0m                                 Traceback (most recent call last)",
      "Cell \u001b[0;32mIn[11], line 2\u001b[0m\n\u001b[1;32m      1\u001b[0m plt\u001b[38;5;241m.\u001b[39mfigure(figsize\u001b[38;5;241m=\u001b[39m(\u001b[38;5;241m30\u001b[39m, \u001b[38;5;241m20\u001b[39m))\n\u001b[0;32m----> 2\u001b[0m tp_gt, tp_comp, fn_gt, fp_comp, performance_cons_off \u001b[38;5;241m=\u001b[39m cm\u001b[38;5;241m.\u001b[39mbase\u001b[38;5;241m.\u001b[39mrois\u001b[38;5;241m.\u001b[39mnf_match_neurons_in_binary_masks(roi_cons, \u001b[43mA_thr\u001b[49m[:, :]\u001b[38;5;241m.\u001b[39mreshape([dims[\u001b[38;5;241m0\u001b[39m], dims[\u001b[38;5;241m1\u001b[39m], \u001b[38;5;241m-\u001b[39m\u001b[38;5;241m1\u001b[39m], order\u001b[38;5;241m=\u001b[39m\u001b[38;5;124m'\u001b[39m\u001b[38;5;124mF\u001b[39m\u001b[38;5;124m'\u001b[39m)\u001b[38;5;241m.\u001b[39mtranspose([\u001b[38;5;241m2\u001b[39m, \u001b[38;5;241m0\u001b[39m, \u001b[38;5;241m1\u001b[39m]) \u001b[38;5;241m*\u001b[39m \u001b[38;5;241m1.\u001b[39m, thresh_cost\u001b[38;5;241m=\u001b[39m\u001b[38;5;241m.7\u001b[39m, min_dist\u001b[38;5;241m=\u001b[39m\u001b[38;5;241m10\u001b[39m,\n\u001b[1;32m      3\u001b[0m                                                                                                      print_assignment\u001b[38;5;241m=\u001b[39m\u001b[38;5;28;01mFalse\u001b[39;00m, plot_results\u001b[38;5;241m=\u001b[39m\u001b[38;5;28;01mFalse\u001b[39;00m, Cn\u001b[38;5;241m=\u001b[39mCn, labels\u001b[38;5;241m=\u001b[39m[\u001b[38;5;124m'\u001b[39m\u001b[38;5;124mGT\u001b[39m\u001b[38;5;124m'\u001b[39m, \u001b[38;5;124m'\u001b[39m\u001b[38;5;124mOffline\u001b[39m\u001b[38;5;124m'\u001b[39m])\n\u001b[1;32m      4\u001b[0m plt\u001b[38;5;241m.\u001b[39mrcParams[\u001b[38;5;124m'\u001b[39m\u001b[38;5;124mpdf.fonttype\u001b[39m\u001b[38;5;124m'\u001b[39m] \u001b[38;5;241m=\u001b[39m \u001b[38;5;241m42\u001b[39m\n\u001b[1;32m      5\u001b[0m font \u001b[38;5;241m=\u001b[39m {\u001b[38;5;124m'\u001b[39m\u001b[38;5;124mfamily\u001b[39m\u001b[38;5;124m'\u001b[39m: \u001b[38;5;124m'\u001b[39m\u001b[38;5;124mMyriad Pro\u001b[39m\u001b[38;5;124m'\u001b[39m,\n\u001b[1;32m      6\u001b[0m         \u001b[38;5;124m'\u001b[39m\u001b[38;5;124mweight\u001b[39m\u001b[38;5;124m'\u001b[39m: \u001b[38;5;124m'\u001b[39m\u001b[38;5;124mregular\u001b[39m\u001b[38;5;124m'\u001b[39m,\n\u001b[1;32m      7\u001b[0m         \u001b[38;5;124m'\u001b[39m\u001b[38;5;124msize\u001b[39m\u001b[38;5;124m'\u001b[39m: \u001b[38;5;241m20\u001b[39m}\n",
      "\u001b[0;31mNameError\u001b[0m: name 'A_thr' is not defined"
     ]
    },
    {
     "data": {
      "text/plain": [
       "<Figure size 3000x2000 with 0 Axes>"
      ]
     },
     "metadata": {},
     "output_type": "display_data"
    }
   ],
   "source": [
    "plt.figure(figsize=(30, 20))\n",
    "tp_gt, tp_comp, fn_gt, fp_comp, performance_cons_off = cm.base.rois.nf_match_neurons_in_binary_masks(roi_cons, A_thr[:, :].reshape([dims[0], dims[1], -1], order='F').transpose([2, 0, 1]) * 1., thresh_cost=.7, min_dist=10,\n",
    "                                                                                                     print_assignment=False, plot_results=False, Cn=Cn, labels=['GT', 'Offline'])\n",
    "plt.rcParams['pdf.fonttype'] = 42\n",
    "font = {'family': 'Myriad Pro',\n",
    "        'weight': 'regular',\n",
    "        'size': 20}\n",
    "plt.rc('font', **font)"
   ]
  },
  {
   "cell_type": "markdown",
   "metadata": {},
   "source": [
    "### Generating match_masks.npz"
   ]
  },
  {
   "cell_type": "code",
   "execution_count": 12,
   "metadata": {},
   "outputs": [
    {
     "ename": "NameError",
     "evalue": "name 'Cn' is not defined",
     "output_type": "error",
     "traceback": [
      "\u001b[0;31m---------------------------------------------------------------------------\u001b[0m",
      "\u001b[0;31mNameError\u001b[0m                                 Traceback (most recent call last)",
      "Cell \u001b[0;32mIn[12], line 1\u001b[0m\n\u001b[0;32m----> 1\u001b[0m np\u001b[38;5;241m.\u001b[39msavez(os\u001b[38;5;241m.\u001b[39mpath\u001b[38;5;241m.\u001b[39mjoin(os\u001b[38;5;241m.\u001b[39mpath\u001b[38;5;241m.\u001b[39msplit(fname_new)[\u001b[38;5;241m0\u001b[39m], os\u001b[38;5;241m.\u001b[39mpath\u001b[38;5;241m.\u001b[39msplit(fname_new)[\u001b[38;5;241m1\u001b[39m][:\u001b[38;5;241m-\u001b[39m\u001b[38;5;241m4\u001b[39m] \u001b[38;5;241m+\u001b[39m \u001b[38;5;124m'\u001b[39m\u001b[38;5;124mmatch_masks.npz\u001b[39m\u001b[38;5;124m'\u001b[39m), Cn\u001b[38;5;241m=\u001b[39m\u001b[43mCn\u001b[49m,\n\u001b[1;32m      2\u001b[0m          tp_gt\u001b[38;5;241m=\u001b[39mtp_gt, tp_comp\u001b[38;5;241m=\u001b[39mtp_comp, fn_gt\u001b[38;5;241m=\u001b[39mfn_gt, fp_comp\u001b[38;5;241m=\u001b[39mfp_comp, performance_cons_off\u001b[38;5;241m=\u001b[39mperformance_cons_off, idx_size_neuro_gt\u001b[38;5;241m=\u001b[39midx_size_neuro, A_thr\u001b[38;5;241m=\u001b[39mA_thr,\n\u001b[1;32m      3\u001b[0m          A_gt\u001b[38;5;241m=\u001b[39mA, C_gt\u001b[38;5;241m=\u001b[39mC, b_gt\u001b[38;5;241m=\u001b[39mb, f_gt\u001b[38;5;241m=\u001b[39mf, YrA_gt\u001b[38;5;241m=\u001b[39mYrA, d1\u001b[38;5;241m=\u001b[39md1, d2\u001b[38;5;241m=\u001b[39md2, idx_components_gt\u001b[38;5;241m=\u001b[39midx_size_neuro[\n\u001b[1;32m      4\u001b[0m              tp_comp],\n\u001b[1;32m      5\u001b[0m          idx_components_bad_gt\u001b[38;5;241m=\u001b[39midx_size_neuro[fp_comp], fname_new\u001b[38;5;241m=\u001b[39mfname_new)\n",
      "\u001b[0;31mNameError\u001b[0m: name 'Cn' is not defined"
     ]
    }
   ],
   "source": [
    "np.savez(os.path.join(os.path.split(fname_new)[0], os.path.split(fname_new)[1][:-4] + 'match_masks.npz'), Cn=Cn,\n",
    "         tp_gt=tp_gt, tp_comp=tp_comp, fn_gt=fn_gt, fp_comp=fp_comp, performance_cons_off=performance_cons_off, idx_size_neuro_gt=idx_size_neuro, A_thr=A_thr,\n",
    "         A_gt=A, C_gt=C, b_gt=b, f_gt=f, YrA_gt=YrA, d1=d1, d2=d2, idx_components_gt=idx_size_neuro[\n",
    "             tp_comp],\n",
    "         idx_components_bad_gt=idx_size_neuro[fp_comp], fname_new=fname_new)"
   ]
  },
  {
   "cell_type": "code",
   "execution_count": null,
   "metadata": {},
   "outputs": [],
   "source": []
  }
 ],
 "metadata": {
  "kernelspec": {
   "display_name": "caiman_pytorch_2",
   "language": "python",
   "name": "caiman_pytorch_2"
  },
  "language_info": {
   "codemirror_mode": {
    "name": "ipython",
    "version": 3
   },
   "file_extension": ".py",
   "mimetype": "text/x-python",
   "name": "python",
   "nbconvert_exporter": "python",
   "pygments_lexer": "ipython3",
   "version": "3.12.0"
  }
 },
 "nbformat": 4,
 "nbformat_minor": 4
}
